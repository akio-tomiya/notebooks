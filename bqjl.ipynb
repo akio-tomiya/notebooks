{
 "cells": [
  {
   "cell_type": "markdown",
   "metadata": {},
   "source": [
    "# Wrapper for blueqat-julia\n",
    "\n",
    "A. Tomiya 19th/Jan/2021 akio.tomiya_AT_riken.jp\n",
    "\n",
    "This is a previte wrapper for blueqat-julia."
   ]
  },
  {
   "cell_type": "markdown",
   "metadata": {},
   "source": [
    "To use this notebook, you need files in https://github.com/Blueqat/blueqat-julia.\n",
    "And fixed StateVectorFunctions.jl"
   ]
  },
  {
   "cell_type": "markdown",
   "metadata": {},
   "source": [
    "Not all gates are supported."
   ]
  },
  {
   "cell_type": "code",
   "execution_count": 1,
   "metadata": {
    "scrolled": false
   },
   "outputs": [
    {
     "name": "stdout",
     "output_type": "stream",
     "text": [
      "Julia Version 1.5.1\n",
      "Commit 697e782ab8 (2020-08-25 20:08 UTC)\n",
      "Platform Info:\n",
      "  OS: macOS (x86_64-apple-darwin19.5.0)\n",
      "  CPU: Intel(R) Core(TM) i5-8259U CPU @ 2.30GHz\n",
      "  WORD_SIZE: 64\n",
      "  LIBM: libopenlibm\n",
      "  LLVM: libLLVM-9.0.1 (ORCJIT, skylake)\n"
     ]
    }
   ],
   "source": [
    "versioninfo()"
   ]
  },
  {
   "cell_type": "code",
   "execution_count": 2,
   "metadata": {},
   "outputs": [],
   "source": [
    "include(\"./blueqat.jl\")\n",
    "using .blueqat"
   ]
  },
  {
   "cell_type": "code",
   "execution_count": 3,
   "metadata": {},
   "outputs": [],
   "source": [
    "function Initialized_state(nqubit=1)\n",
    "    return Input(nqubit)\n",
    "end\n",
    "function Circuit()\n",
    "    return [] \n",
    "    #return Array{OneQubitGate,1} # this does not work so far\n",
    "end\n",
    "#\n",
    "# 1-qubit gatesw\n",
    "function x!(circ::Array{Any,1},i::Int64)\n",
    "    push!(circ,X(i))\n",
    "end\n",
    "function y!(circ::Array{Any,1},i::Int64)\n",
    "    push!(circ,Y(i))\n",
    "end\n",
    "function z!(circ::Array{Any,1},i::Int64)\n",
    "    push!(circ,Z(i))\n",
    "end\n",
    "function h!(circ::Array{Any,1},i::Int64)\n",
    "    push!(circ,H(i))\n",
    "end\n",
    "function s!(circ::Array{Any,1},i::Int64)\n",
    "    push!(circ,S(i))\n",
    "end\n",
    "function t!(circ::Array{Any,1},i::Int64)\n",
    "    push!(circ,T(i))\n",
    "end\n",
    "function m!(circ::Array{Any,1},i::Int64)\n",
    "    push!(circ,M(i))\n",
    "end\n",
    "#\n",
    "function x!(circ::Array{Any,1},iis::Array{Int64,1})\n",
    "    for i in iis\n",
    "        x!(circ,i)\n",
    "    end\n",
    "end\n",
    "function y!(circ::Array{Any,1},iis::Array{Int64,1})\n",
    "    for i in iis\n",
    "        y!(circ,i)\n",
    "    end\n",
    "end\n",
    "function z!(circ::Array{Any,1},iis::Array{Int64,1})\n",
    "    for i in iis\n",
    "        z!(circ,i)\n",
    "    end\n",
    "end\n",
    "function h!(circ::Array{Any,1},iis::Array{Int64,1})\n",
    "    for i in iis\n",
    "        h!(circ,i)\n",
    "    end\n",
    "end\n",
    "function s!(circ::Array{Any,1},iis::Array{Int64,1})\n",
    "    for i in iis\n",
    "        s!(circ,i)\n",
    "    end\n",
    "end\n",
    "function t!(circ::Array{Any,1},iis::Array{Int64,1})\n",
    "    for i in iis\n",
    "        t!(circ,i)\n",
    "    end\n",
    "end\n",
    "function m!(circ::Array{Any,1},iis::Array{Int64,1})\n",
    "    for i in iis\n",
    "        m!(circ,i)\n",
    "    end\n",
    "end\n",
    "#\n",
    "function x!(circ::Array{Any,1},iis::UnitRange{Int64})\n",
    "    x!(circ,collect(iis))\n",
    "end\n",
    "function y!(circ::Array{Any,1},iis::UnitRange{Int64})\n",
    "    y!(circ,collect(iis))\n",
    "end\n",
    "function z!(circ::Array{Any,1},iis::UnitRange{Int64})\n",
    "    z!(circ,collect(iis))\n",
    "end\n",
    "function h!(circ::Array{Any,1},iis::UnitRange{Int64})\n",
    "    h!(circ,collect(iis))\n",
    "end\n",
    "function s!(circ::Array{Any,1},iis::UnitRange{Int64})\n",
    "    s!(circ,collect(iis))\n",
    "end\n",
    "function t!(circ::Array{Any,1},iis::UnitRange{Int64})\n",
    "    t!(circ,collect(iis))\n",
    "end\n",
    "function m!(circ::Array{Any,1},iis::UnitRange{Int64})\n",
    "    m!(circ,collect(iis))\n",
    "end\n",
    "# rotations on 1 qubit\n",
    "function rx!(circ::Array{Any,1},i::Int64;θ::Float64)\n",
    "    push!(circ,RX(i,θ))\n",
    "end\n",
    "function ry!(circ::Array{Any,1},i::Int64;θ::Float64)\n",
    "    push!(circ,RY(i,θ))\n",
    "end\n",
    "function rz!(circ::Array{Any,1},i::Int64;θ::Float64)\n",
    "    push!(circ,RZ(i,θ))\n",
    "end\n",
    "# 2-qubit gates\n",
    "function cx!(circ::Array{Any,1},i::Int64,j::Int64) # i->j\n",
    "    if i==j\n",
    "        error(\"Control and target wire should be different but $i, $j\")\n",
    "    end\n",
    "    push!(circ,CX(i,j))\n",
    "end\n",
    "function cz!(circ::Array{Any,1},i::Int64,j::Int64) # i->j\n",
    "    if i==j\n",
    "        error(\"Control and target wire should be different but $i, $j\")\n",
    "    end\n",
    "    push!(circ,CZ(i,j))\n",
    "end\n",
    "#\n",
    "function m!(circ::Array{Any,1}) # measure all\n",
    "    nqubits = find_target_max(circ)\n",
    "    for iwire=1:nqubits\n",
    "       m!(circ,iwire) \n",
    "    end\n",
    "end\n",
    "#\n",
    "struct ResultPack\n",
    "    result::Dict{String,Int64}\n",
    "    shots::Int64\n",
    "end\n",
    "function run(state::Input;shots=100,device_name = \"StateVector\")\n",
    "    device = get_device(device_name);\n",
    "    result = execute(state, device, shots);\n",
    "    return ResultPack(get_counts(result),shots)\n",
    "end\n",
    "#= this does not work.\n",
    "function run(circ::Array{OneQubitGate,1};shots=100,device_name = \"StateVector\")\n",
    "    nqubit = find_target_max(circ)\n",
    "    state = Initialized_state(nqubit)\n",
    "    device = get_device(device_name);\n",
    "    result = execute(state, device, shots);\n",
    "    return ResultPack(get_counts(result),shots)\n",
    "end\n",
    "=#\n",
    "function run(circ::Array{Any,1};shots=100,device_name = \"StateVector\")\n",
    "    nqubit = find_target_max(circ)\n",
    "    state = Initialized_state(nqubit)\n",
    "    device = get_device(device_name);\n",
    "    apply!(state, circ);\n",
    "    result = execute(state, device, shots);\n",
    "    return ResultPack(get_counts(result),shots)\n",
    "end\n",
    "function find_target_max(circ::Array{Any,1})\n",
    "    ngates = length(circ)\n",
    "    if ngates<1\n",
    "        return 0\n",
    "    end\n",
    "    maxq=1\n",
    "    for ii = 1:ngates\n",
    "        tmp = circ[ii]._target\n",
    "        if maxq<tmp\n",
    "            maxq=tmp\n",
    "        end\n",
    "    end\n",
    "    return maxq\n",
    "end;"
   ]
  },
  {
   "cell_type": "code",
   "execution_count": 4,
   "metadata": {
    "scrolled": true
   },
   "outputs": [
    {
     "name": "stderr",
     "output_type": "stream",
     "text": [
      "┌ Warning: PyPlot is using tkagg backend, which is known to cause crashes on MacOS (#410); use the MPLBACKEND environment variable to request a different backend.\n",
      "└ @ PyPlot /Users/akio/.julia/packages/PyPlot/XHEG0/src/init.jl:192\n"
     ]
    }
   ],
   "source": [
    "using PyPlot: plt"
   ]
  },
  {
   "cell_type": "code",
   "execution_count": 5,
   "metadata": {},
   "outputs": [],
   "source": [
    "function plot(res::Dict{String,Int64},relative=false)\n",
    "    ts = keys(res)\n",
    "    ys = []\n",
    "    xs = collect(1:length(ts))\n",
    "    for t in ts\n",
    "        append!(ys,res[t])\n",
    "    end\n",
    "    plt.bar(xs,ys)\n",
    "    plt.xticks(xs,ts)\n",
    "    plt.ylabel(\"Counts\")\n",
    "    plt.show()\n",
    "end;\n",
    "function plot(ret::ResultPack,relative=false)\n",
    "    res = ret.result\n",
    "    shots = ret.shots\n",
    "    ts = keys(res)\n",
    "    ys = []\n",
    "    xs = collect(1:length(ts))\n",
    "    if !relative\n",
    "        shots=1\n",
    "        plt.ylabel(\"Counts\")\n",
    "    else\n",
    "        plt.ylabel(\"Density\")\n",
    "    end\n",
    "    for t in ts\n",
    "        append!(ys,res[t]/shots)\n",
    "    end\n",
    "    plt.bar(xs,ys)\n",
    "    plt.xticks(xs,ts)\n",
    "    plt.show()\n",
    "end;"
   ]
  },
  {
   "cell_type": "code",
   "execution_count": 6,
   "metadata": {},
   "outputs": [],
   "source": [
    "# show circuit in AA\n",
    "function visualize(circ::Array{Any,1})\n",
    "    nqubit = find_target_max(circ)\n",
    "    println(\"# nqubit = $nqubit\")\n",
    "    #prep wires\n",
    "    AA = []\n",
    "    for i = 1:nqubit\n",
    "        push!(AA,\"|0>-\")\n",
    "    end\n",
    "    # gates\n",
    "    if length(circ)>100\n",
    "        error(\"Too many gates to visualize!\")\n",
    "    end\n",
    "    for igate=1:length(circ)\n",
    "        # two qubits\n",
    "        if (circ[igate]._name==\"CX\")|(circ[igate]._name==\"CZ\")\n",
    "            iwire_c=circ[igate]._control\n",
    "            iwire_t=circ[igate]._target\n",
    "            if circ[igate]._name==\"CX\"\n",
    "                AA[iwire_t]*=\"x-\"\n",
    "            elseif circ[igate]._name==\"CZ\"\n",
    "                AA[iwire_t]*=\"z-\"\n",
    "            end\n",
    "            AA[iwire_c]*=\"c-\" # control\n",
    "            for i=1:nqubit\n",
    "                if (i!=iwire_t)&(i!=iwire_c)\n",
    "                    if min(iwire_t,iwire_c)<i<max(iwire_t,iwire_c)\n",
    "                        AA[i]*=\"|-\"  #empty wire\n",
    "                    else\n",
    "                        AA[i]*=\"--\"  #empty wire\n",
    "                    end\n",
    "                end\n",
    "            end\n",
    "            continue\n",
    "        end\n",
    "        iwire=circ[igate]._target\n",
    "        if circ[igate]==\"\"\n",
    "            continue\n",
    "        elseif circ[igate]._name==\"M\"\n",
    "            AA[iwire]*=circ[igate]._name#*\"_\"\n",
    "            continue\n",
    "        elseif (circ[igate]._name==\"RX\")\n",
    "            AA[iwire]*=\"Rx\"\n",
    "        elseif (circ[igate]._name==\"RY\")\n",
    "            AA[iwire]*=\"Ry\"\n",
    "        elseif (circ[igate]._name==\"RZ\")\n",
    "            AA[iwire]*=\"Rz\"\n",
    "        else\n",
    "            AA[iwire]*=circ[igate]._name*\"-\"\n",
    "        end\n",
    "        for i=1:nqubit\n",
    "            if i!=iwire\n",
    "               AA[i]*=\"--\"  #empty wire\n",
    "            end\n",
    "        end\n",
    "    end\n",
    "    # plot\n",
    "    for a in AA\n",
    "       println(\"$(a)\")\n",
    "    end\n",
    "end;"
   ]
  },
  {
   "cell_type": "markdown",
   "metadata": {},
   "source": [
    "- - -  "
   ]
  },
  {
   "cell_type": "markdown",
   "metadata": {},
   "source": [
    "# use example"
   ]
  },
  {
   "cell_type": "code",
   "execution_count": 7,
   "metadata": {
    "scrolled": false
   },
   "outputs": [
    {
     "name": "stdout",
     "output_type": "stream",
     "text": [
      "# nqubit = 2\n",
      "|0>-H---M\n",
      "|0>---H-M\n"
     ]
    }
   ],
   "source": [
    "c = Circuit() \n",
    "h!(c,1:2)\n",
    "m!(c);\n",
    "visualize(c)"
   ]
  },
  {
   "cell_type": "code",
   "execution_count": 8,
   "metadata": {
    "scrolled": false
   },
   "outputs": [
    {
     "data": {
      "image/png": "[encoded data removed]",
      "text/plain": [
       "PyPlot.Figure(PyObject <Figure size 640x480 with 1 Axes>)"
      ]
     },
     "metadata": {},
     "output_type": "display_data"
    }
   ],
   "source": [
    "result = run(c,shots=10^4)\n",
    "plot(result,true)"
   ]
  },
  {
   "cell_type": "markdown",
   "metadata": {},
   "source": [
    "Another example"
   ]
  },
  {
   "cell_type": "code",
   "execution_count": 9,
   "metadata": {},
   "outputs": [
    {
     "name": "stdout",
     "output_type": "stream",
     "text": [
      "# nqubit = 7\n",
      "|0>-H-----------------------X-----x-c---x-------M\n",
      "|0>---H-H---------------------X---|-|---|---Ry--M\n",
      "|0>-------X-H-------------------X-c-|-x-|-------\n",
      "|0>-----------H-H-------------------z-|-c-------\n",
      "|0>---------------H-------------------|---Rx--RzM\n",
      "|0>-----------------H-X-H-------------|---------\n",
      "|0>-----------------------H-----------c---------\n"
     ]
    }
   ],
   "source": [
    "Nqubit= 7\n",
    "# = = = = =\n",
    "c = Circuit() \n",
    "for iwire=1:Nqubit\n",
    "    if iwire%2==0\n",
    "        h!(c,iwire);\n",
    "    end\n",
    "    if iwire%3==0\n",
    "        x!(c,iwire);\n",
    "    end\n",
    "    h!(c,iwire);\n",
    "end\n",
    "x!(c,1:3)\n",
    "cx!(c,3,1);\n",
    "cz!(c,1,4);\n",
    "cx!(c,7,3);\n",
    "cx!(c,4,1);\n",
    "rx!(c,5,θ=0.1);\n",
    "ry!(c,2,θ=0.2);\n",
    "rz!(c,5,θ=0.3);\n",
    "m!(c,1:2);\n",
    "m!(c,5);\n",
    "# = = = = =\n",
    "visualize(c)"
   ]
  },
  {
   "cell_type": "code",
   "execution_count": 10,
   "metadata": {},
   "outputs": [
    {
     "data": {
      "text/plain": [
       "ResultPack(Dict(\"00000\" => 1,\"01000\" => 25,\"11000\" => 22,\"11001\" => 24,\"01001\" => 28), 100)"
      ]
     },
     "execution_count": 10,
     "metadata": {},
     "output_type": "execute_result"
    }
   ],
   "source": [
    "run(c)"
   ]
  },
  {
   "cell_type": "code",
   "execution_count": 11,
   "metadata": {
    "scrolled": true
   },
   "outputs": [
    {
     "data": {
      "text/plain": [
       "ResultPack(Dict(\"00000\" => 31,\"01000\" => 2454,\"10000\" => 28,\"00001\" => 33,\"10001\" => 25,\"11000\" => 2466,\"11001\" => 2490,\"01001\" => 2473), 10000)"
      ]
     },
     "execution_count": 11,
     "metadata": {},
     "output_type": "execute_result"
    }
   ],
   "source": [
    "result = run(c,shots=10^4)\n",
    "result"
   ]
  },
  {
   "cell_type": "code",
   "execution_count": 12,
   "metadata": {
    "scrolled": false
   },
   "outputs": [
    {
     "data": {
      "image/png": "[encoded data removed]",
      "text/plain": [
       "PyPlot.Figure(PyObject <Figure size 640x480 with 1 Axes>)"
      ]
     },
     "metadata": {},
     "output_type": "display_data"
    }
   ],
   "source": [
    "plot(result)"
   ]
  },
  {
   "cell_type": "code",
   "execution_count": null,
   "metadata": {},
   "outputs": [],
   "source": []
  },
  {
   "cell_type": "code",
   "execution_count": null,
   "metadata": {},
   "outputs": [],
   "source": []
  }
 ],
 "metadata": {
  "kernelspec": {
   "display_name": "Julia 1.5.1",
   "language": "julia",
   "name": "julia-1.5"
  },
  "language_info": {
   "file_extension": ".jl",
   "mimetype": "application/julia",
   "name": "julia",
   "version": "1.5.1"
  }
 },
 "nbformat": 4,
 "nbformat_minor": 2
}
